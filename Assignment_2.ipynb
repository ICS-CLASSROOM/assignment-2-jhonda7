{
 "cells": [
  {
   "cell_type": "code",
   "execution_count": 1,
   "id": "1443cdff",
   "metadata": {},
   "outputs": [],
   "source": [
    "import re\n"
   ]
  },
  {
   "cell_type": "markdown",
   "id": "9aa8d15e",
   "metadata": {},
   "source": [
    "# Assignment 2: Analyzing large datasets with Spark.\n",
    "\n",
    "\n",
    "For this assignment, you will need to make sure you're running from a PySpark docker environment I introduced in class. You can start the docker pySpark docker environment using the following command:\n",
    "\n",
    "```\n",
    "docker run --rm -p 4040:4040 -p 8888:8888 -v $(pwd):/home/jovyan/work jupyter/all-spark-notebook\n",
    "```\n",
    "\n",
    "Make sure you run the command from the directory containing this jupyter notebook and your data folder.\n",
    "\n",
    "\n",
    "</b>\n",
    "# WARNING: For some reason, ipynbb document didn't always sync properly when I was pushing to github. As such, please push often and make sure your incremental changes appear on GitHub.\n",
    "</b>"
   ]
  },
  {
   "cell_type": "markdown",
   "id": "66b0d3e6",
   "metadata": {},
   "source": [
    "### Part 1\n",
    "\n",
    "The first part will use Spark to analyze the following books, which I have downloaded for you to use from Project Gutenberg. The files are saved to the data folder.\n",
    "\n",
    "| File name | Book Title|\n",
    "|:---------:|:----------|\n",
    "|43.txt | The Strange Case of Dr. Jekyll and Mr. Hyde by Robert Louis Stevenson|\n",
    "|84.txt | Frankenstein; Or, The Modern Prometheus by Mary Wollstonecraft Shelley |\n",
    "|398.txt  | The First Book of Adam and Eve by Rutherford Hayes Platt|\n",
    "|3296.txt | The Confessions of St. Augustine by Bishop of Hippo Saint Augustine|\n",
    "\n",
    "The objective is to explore whether we can detect similarity between books within the same topic using word-based similarity. \n",
    "\n",
    "The task of identifying similar texts in Natural Language Processing is crucial. A naive method for determining whether two documents are similar is to treat them as collections of words (bag of words) and use the number of words they share as a proxy for their similarity. It makes sense that two books with religion as the topic (e.g.  `398.txt` and `3296.txt`) would have more words in common than a book that discusses religion and a book that discusses science fiction (e.g. books `84.txt` and `398.txt`). \n",
    "\n",
    "As mentioned above, we will be using Spark to analyze the data. Although Spark is not needed for such a small example, the platform would be ideal for analyzing very large collections of documents, like those often analyzed by large corporations\n",
    "\n",
    "This part of the assignment will rely exclusively on RDDs."
   ]
  },
  {
   "cell_type": "markdown",
   "id": "87a15530",
   "metadata": {},
   "source": [
    "### Q1. \n",
    "Start by importing Spark and making sure your environment is set up properly for the assignment.\n",
    "\n",
    "Import the spark context necessary to load a document as an RDD; ignore any error messages"
   ]
  },
  {
   "cell_type": "code",
   "execution_count": 2,
   "id": "e80df4d4",
   "metadata": {},
   "outputs": [
    {
     "name": "stderr",
     "output_type": "stream",
     "text": [
      "WARNING: An illegal reflective access operation has occurred\n",
      "WARNING: Illegal reflective access by org.apache.spark.unsafe.Platform (file:/usr/local/spark-3.2.0-bin-hadoop3.2/jars/spark-unsafe_2.12-3.2.0.jar) to constructor java.nio.DirectByteBuffer(long,int)\n",
      "WARNING: Please consider reporting this to the maintainers of org.apache.spark.unsafe.Platform\n",
      "WARNING: Use --illegal-access=warn to enable warnings of further illegal reflective access operations\n",
      "WARNING: All illegal access operations will be denied in a future release\n",
      "Using Spark's default log4j profile: org/apache/spark/log4j-defaults.properties\n",
      "Setting default log level to \"WARN\".\n",
      "To adjust logging level use sc.setLogLevel(newLevel). For SparkR, use setLogLevel(newLevel).\n",
      "21/11/08 21:09:07 WARN NativeCodeLoader: Unable to load native-hadoop library for your platform... using builtin-java classes where applicable\n"
     ]
    }
   ],
   "source": [
    "from pyspark import SparkContext\n",
    "sc = SparkContext()"
   ]
  },
  {
   "cell_type": "markdown",
   "id": "336d5c9d",
   "metadata": {},
   "source": [
    "### Q2 \n",
    "\n",
    "Read in the file `43.txt` as a spark RDD and save it to a variable called `book_43`\n",
    " * make sure `book_43` is of type MapPartitionsRDD, i.e.,\n",
    "   * str(type(book_43)) == \"<class 'pyspark.rdd.RDD'>\" should return True "
   ]
  },
  {
   "cell_type": "code",
   "execution_count": 3,
   "id": "3d4164f5",
   "metadata": {},
   "outputs": [
    {
     "data": {
      "text/plain": [
       "True"
      ]
     },
     "execution_count": 3,
     "metadata": {},
     "output_type": "execute_result"
    }
   ],
   "source": [
    "book_43 = sc.textFile('data/43.txt')\n",
    "str(type(book_43)) == \"<class 'pyspark.rdd.RDD'>\""
   ]
  },
  {
   "cell_type": "markdown",
   "id": "0b8c051e",
   "metadata": {},
   "source": [
    "### Q3\n",
    "\n",
    "How many lines does `book_43` contain?\n",
    "* You can only use operations or actions on RDDs to answer the question. \n",
    "  * Code that uses methods such as `some_rdd.X().Y().Z()...` is allowed\n",
    "  * Code that uses functions such as `some_func(...)` is not allowed"
   ]
  },
  {
   "cell_type": "code",
   "execution_count": 4,
   "id": "b3c5a06e",
   "metadata": {},
   "outputs": [
    {
     "name": "stderr",
     "output_type": "stream",
     "text": [
      "\r",
      "[Stage 0:>                                                          (0 + 2) / 2]\r"
     ]
    },
    {
     "name": "stdout",
     "output_type": "stream",
     "text": [
      "book_43 has 2935 rows\n"
     ]
    },
    {
     "name": "stderr",
     "output_type": "stream",
     "text": [
      "\r",
      "                                                                                \r"
     ]
    }
   ],
   "source": [
    "### Write your code here\n",
    "count = book_43.count()\n",
    "print(f\"book_43 has {count} rows\")"
   ]
  },
  {
   "cell_type": "markdown",
   "id": "bca2bc6d",
   "metadata": {},
   "source": [
    "### Q4 \n",
    "\n",
    "Prior to analyzing the words contained in this book, we need to first remove the occurrences of non-alphabetical characters and numbers from the text. You can use the following function, which takes a line as input, removes digits and non-word characters, and splits it into a collection of words. \n",
    "\n",
    "```python\n",
    "def clean_split_line(line):\n",
    "    a = re.sub('\\d+', '', line)\n",
    "    b = re.sub('[\\W]+', ' ', a)\n",
    "    return b.upper().split()\n",
    "```\n",
    "\n",
    "Use the fucntion above on the variable (test_line) to see what it returns.\n",
    "```python\n",
    "test_line = \"This is an example of that contains 234 and a dash-containing number\"\n",
    "```"
   ]
  },
  {
   "cell_type": "code",
   "execution_count": 5,
   "id": "55ce2754",
   "metadata": {},
   "outputs": [
    {
     "data": {
      "text/plain": [
       "['THIS',\n",
       " 'IS',\n",
       " 'AN',\n",
       " 'EXAMPLE',\n",
       " 'OF',\n",
       " 'THAT',\n",
       " 'CONTAINS',\n",
       " 'AND',\n",
       " 'A',\n",
       " 'DASH',\n",
       " 'CONTAINING',\n",
       " 'NUMBER']"
      ]
     },
     "execution_count": 5,
     "metadata": {},
     "output_type": "execute_result"
    }
   ],
   "source": [
    "### Write your code here\n",
    "def clean_split_line(line):\n",
    "    a = re.sub('\\d+', '', line)\n",
    "    b = re.sub('[\\W]+', ' ', a)\n",
    "    return b.upper().split()\n",
    "test_line = \"This is an example of that contains 234 and a dash-containing number\"\n",
    "clean_split_line(test_line)"
   ]
  },
  {
   "cell_type": "markdown",
   "id": "b5e951e5",
   "metadata": {},
   "source": [
    "### Q5\n",
    "\n",
    "How many words does `book_43` contain? To answer this question, you may find it useful to apply the function in a spark-fashion. \n",
    "* You can only use operations or actions on RDDs to answer the question. \n",
    "  * Code that uses methods such as `some_rdd.X().Y().Z()...` is allowed\n",
    "  * Code that uses functions such as `some_func(...)` is not allowed\n"
   ]
  },
  {
   "cell_type": "code",
   "execution_count": 6,
   "id": "99c1b93f",
   "metadata": {},
   "outputs": [
    {
     "name": "stdout",
     "output_type": "stream",
     "text": [
      "book_43 has 29116 words\n"
     ]
    }
   ],
   "source": [
    "#test = book_43.take(1)\n",
    "#print(test)\n",
    "words = book_43.flatMap(clean_split_line)\n",
    "word_count = words.count()\n",
    "print(f\"book_43 has {word_count} words\")"
   ]
  },
  {
   "cell_type": "markdown",
   "id": "30d62952",
   "metadata": {},
   "source": [
    "### Q6\n",
    "\n",
    "How many of the words in book_43 are unique? Given that words can appear in lower, upper or mixed case (ex. The, THE, the), make sure you convert the words into lower case before counting them.\n"
   ]
  },
  {
   "cell_type": "code",
   "execution_count": 7,
   "id": "07785c77",
   "metadata": {},
   "outputs": [
    {
     "name": "stderr",
     "output_type": "stream",
     "text": [
      "\r",
      "[Stage 2:>                                                          (0 + 2) / 2]\r"
     ]
    },
    {
     "name": "stdout",
     "output_type": "stream",
     "text": [
      "There are 4296 unique words\n"
     ]
    },
    {
     "name": "stderr",
     "output_type": "stream",
     "text": [
      "\r",
      "                                                                                \r"
     ]
    }
   ],
   "source": [
    "# No lower\n",
    "distinct_words = words.distinct()\n",
    "num_dswords = distinct_words.count()\n",
    "print(f\"There are {num_dswords} unique words\")\n",
    "# distinct_words.collect()"
   ]
  },
  {
   "cell_type": "code",
   "execution_count": 8,
   "id": "20e0ac5d",
   "metadata": {},
   "outputs": [
    {
     "name": "stdout",
     "output_type": "stream",
     "text": [
      "There are 4296 unique words\n"
     ]
    }
   ],
   "source": [
    "def clean_split_line_with_lower(line):\n",
    "    a = re.sub('\\d+', '', line)\n",
    "    b = re.sub('[\\W]+', ' ', a)\n",
    "    return b.lower().split()\n",
    "lower_words = book_43.flatMap(clean_split_line_with_lower)\n",
    "distinct_words = lower_words.distinct()\n",
    "num_dswords = distinct_words.count()\n",
    "print(f\"There are {num_dswords} unique words\")"
   ]
  },
  {
   "cell_type": "code",
   "execution_count": 9,
   "id": "aa866ce0",
   "metadata": {},
   "outputs": [
    {
     "name": "stdout",
     "output_type": "stream",
     "text": [
      "There are 4296 unique words\n"
     ]
    }
   ],
   "source": [
    "# maybe\n",
    "new_lower_words = words.map(lambda x: x.lower())\n",
    "new_distinct_words = new_lower_words.distinct()\n",
    "new_num_dswords = new_distinct_words.count()\n",
    "print(f\"There are {new_num_dswords} unique words\")"
   ]
  },
  {
   "cell_type": "markdown",
   "id": "91b13b79",
   "metadata": {},
   "source": [
    "### Q7\n",
    "\n",
    "* Generate an `RDD` that contains the frequency of each word in `book_43`. Call the variable `book_43_counts`. Each item in the `RDD` should be a tuple with the word as the first element of the tuple and the count as the second item of the tuple. The collection should look like the following:\n",
    "\n",
    "[('project', 88), (\"the\", 1807), ... ]\n",
    "\n",
    "* Such a collection may contain a large number of words and it would be imprudent to transfer all the words onto the same machine to display it. Instead, to explore the content of such a collection, display only the first element in your list. \n",
    "\n",
    "* Given the random nature of this operation, the first element element displayed may be different. The first entry for me was:\n",
    "```\n",
    "[('project', 88)]\n",
    "```\n",
    "\n",
    "* You can only use operations or actions to answer the question. \n",
    "* Code that uses methods such as `some_rdd.X().Y().Z()...` is allowed\n",
    "* Code that uses functions such as `some_func(...)` is not allowed\n"
   ]
  },
  {
   "cell_type": "code",
   "execution_count": 10,
   "id": "42729b95",
   "metadata": {},
   "outputs": [
    {
     "data": {
      "text/plain": [
       "[('project', 88)]"
      ]
     },
     "execution_count": 10,
     "metadata": {},
     "output_type": "execute_result"
    }
   ],
   "source": [
    "# review\n",
    "book_43_counts = book_43.flatMap(clean_split_line_with_lower).map(lambda x: (x,1)).reduceByKey(lambda x,y: x+y)\n",
    "# type(book_43_counts)\n",
    "book_43_counts.take(1)"
   ]
  },
  {
   "cell_type": "markdown",
   "id": "1ee4534c",
   "metadata": {},
   "source": [
    "### Q8\n",
    "\n",
    "Sort `book_43_counts` and print the 20 most frequent words in book_43. \n",
    "  * Hint: function `sortByKey` sorts a collection of tuples on the first element element of the list. You can easily change the order of the items in each element and use `sortByKey` to sort on the second item of each element in `book_43_counts`\n",
    "  * You can only use operations or actions to answer the question. \n",
    "  * Code that uses methods such as `some_rdd.X().Y().Z()...` is allowed\n",
    "  * Code that uses functions such as `some_func(...)` is not allowed"
   ]
  },
  {
   "cell_type": "code",
   "execution_count": 11,
   "id": "d51b8ea9",
   "metadata": {},
   "outputs": [
    {
     "data": {
      "text/plain": [
       "[('the', 1807),\n",
       " ('of', 1068),\n",
       " ('and', 1043),\n",
       " ('to', 726),\n",
       " ('a', 686),\n",
       " ('i', 646),\n",
       " ('in', 485),\n",
       " ('was', 471),\n",
       " ('that', 392),\n",
       " ('he', 384),\n",
       " ('it', 378),\n",
       " ('you', 312),\n",
       " ('my', 308),\n",
       " ('with', 301),\n",
       " ('his', 285),\n",
       " ('had', 244),\n",
       " ('as', 203),\n",
       " ('for', 202),\n",
       " ('this', 195),\n",
       " ('but', 193)]"
      ]
     },
     "execution_count": 11,
     "metadata": {},
     "output_type": "execute_result"
    }
   ],
   "source": [
    "### Write your code here\n",
    "new_book = book_43_counts.sortBy(keyfunc = lambda x: x[1], ascending = False)\n",
    "new_book.take(20)\n",
    "#sorted_books = book_43_counts.map(lambda x: x[1])"
   ]
  },
  {
   "cell_type": "markdown",
   "id": "13420b09",
   "metadata": {},
   "source": [
    "### Q9\n",
    "\n",
    "You must have noted that the most frequent words in `book_43_counts` include stop words such as `of`, `the`, `and`, etc.\n",
    "\n",
    "It would be inefficient to compare documents based on whether or not they contain stop words; those are common to all documents. As such, it's common to remove such stop words. The librarary `sklearn.feature_extraction` provides access to a collection of English stop words, which can be loaded using the following snippet:\n",
    "\n",
    "```\n",
    "from sklearn.feature_extraction import stop_words\n",
    "stop_words.ENGLISH_STOP_WORDS\n",
    "```\n",
    "\n",
    "* Explore ENGLISH_STOP_WORDS (it's a frozen set data structure, i.e., a set that you cannot modify) by printing any 10 words from it. \n",
    " * Hint: convert the frozen set to something you can subscript\n"
   ]
  },
  {
   "cell_type": "code",
   "execution_count": 12,
   "id": "0e0ad996",
   "metadata": {},
   "outputs": [
    {
     "name": "stdout",
     "output_type": "stream",
     "text": [
      "10 ENGLISH_STOP_WORDS:\n",
      "nevertheless\n",
      "moreover\n",
      "the\n",
      "whole\n",
      "about\n",
      "my\n",
      "everyone\n",
      "someone\n",
      "detail\n",
      "everything\n"
     ]
    }
   ],
   "source": [
    "from sklearn.feature_extraction import _stop_words\n",
    "# _stop_words.ENGLISH_STOP_WORDS\n",
    "stop_list = list(_stop_words.ENGLISH_STOP_WORDS)\n",
    "short_list = stop_list[0:10]\n",
    "print(\"10 ENGLISH_STOP_WORDS:\")\n",
    "for word in short_list:\n",
    "    print(word)"
   ]
  },
  {
   "cell_type": "markdown",
   "id": "625eb521",
   "metadata": {},
   "source": [
    "### Q10\n",
    "\n",
    "Filter out the words in `book_43_counts` by removing those that appear in the ENGLISH_STOP_WORDS.\n",
    "Save the results to a new variable called `book_43_counts_filtered`\n",
    "  * You can only use operarations or actions on RDDs to answer the question. \n",
    "  * Code that uses methods such as `some_rdd.X().Y().Z()...` is allowed\n",
    "  * Code that uses function such as `some_func(...)` is not allowed\n"
   ]
  },
  {
   "cell_type": "code",
   "execution_count": 13,
   "id": "5602b4ff",
   "metadata": {},
   "outputs": [],
   "source": [
    "# review new_book vs book_43_counts\n",
    "book_43_counts_filtered = new_book.filter(lambda x: x[0] not in _stop_words.ENGLISH_STOP_WORDS)\n",
    "# book_43_counts_filtered.collect()"
   ]
  },
  {
   "cell_type": "markdown",
   "id": "3d0b3a80",
   "metadata": {},
   "source": [
    "### Q11\n",
    "\n",
    "* How many words are left in `book_43_counts_filtered` after removing the stop words"
   ]
  },
  {
   "cell_type": "code",
   "execution_count": 14,
   "id": "a5bdf083",
   "metadata": {},
   "outputs": [
    {
     "name": "stdout",
     "output_type": "stream",
     "text": [
      "There are 4034 words in book_43_counts_filtered after removing the stop words\n"
     ]
    },
    {
     "name": "stderr",
     "output_type": "stream",
     "text": [
      "\r",
      "[Stage 19:=============================>                            (1 + 1) / 2]\r",
      "\r",
      "                                                                                \r"
     ]
    }
   ],
   "source": [
    "### Write your code here\n",
    "filtered = book_43_counts_filtered.count()\n",
    "print(f\"There are {filtered} words in book_43_counts_filtered after removing the stop words\")"
   ]
  },
  {
   "cell_type": "markdown",
   "id": "23ffd755",
   "metadata": {},
   "source": [
    "### Q12 \n",
    "\n",
    "* Create a function called *process_RDD* that combines the relevant steps you proposed above to make it convenient to apply them to the remaining four books. Your function should accept an input text file path and:\n",
    " * Reads in the file as a textRDD\n",
    " * Cleans and splits the line using `clean_split_line`\n",
    " * Filters out the stop words\n",
    " * Returns a word count RDD where each item is a tuple of words and its count.\n",
    " \n"
   ]
  },
  {
   "cell_type": "code",
   "execution_count": 15,
   "id": "eff5d5e8",
   "metadata": {},
   "outputs": [],
   "source": [
    "### Write your code here\n",
    "def process_RDD(path):\n",
    "    temp_book = sc.textFile(path)\n",
    "    temp_word_counts = temp_book.flatMap(clean_split_line_with_lower).map(lambda x: (x,1)).reduceByKey(lambda x,y: x+y)\n",
    "    return temp_word_counts.filter(lambda x: x[0] not in _stop_words.ENGLISH_STOP_WORDS)"
   ]
  },
  {
   "cell_type": "markdown",
   "id": "ba59c9c5",
   "metadata": {},
   "source": [
    "### Q13 \n",
    "\n",
    "Apply the function `process_RDD` to `book_84`, `book_398` and `book_3296` and save the results to variables `book_84_counts_filtered`, `book_398_counts_filtered` and `book_3296_counts_filtered` respectively. How many distinct words does each book contain after filtering the stop words.\n"
   ]
  },
  {
   "cell_type": "code",
   "execution_count": 16,
   "id": "08a24f66",
   "metadata": {},
   "outputs": [
    {
     "data": {
      "text/plain": [
       "pyspark.rdd.PipelinedRDD"
      ]
     },
     "execution_count": 16,
     "metadata": {},
     "output_type": "execute_result"
    }
   ],
   "source": [
    "### Write your code here\n",
    "book_84_counts_filtered = process_RDD('data/84.txt')\n",
    "book_398_counts_filtered = process_RDD('data/398.txt')\n",
    "book_3296_counts_filtered = process_RDD('data/3296.txt')\n",
    "(type(book_84_counts_filtered.distinct()))"
   ]
  },
  {
   "cell_type": "markdown",
   "id": "7fb9680f",
   "metadata": {},
   "source": [
    "### Q14 \n",
    "\n",
    "We discussed how to evaluate similarity between two texts using the number of words they share. We hypothesized that books that are similar should have more words in common than books that are dissimilar. If that holds, `book_398` and `book_3296`, which both pertain to religion, will have more words in common than, say, `book_84` and `book_398`. Test this hypothesis by writing code that compares and prints the number of words shared between `book_398` and `book_3296` and then between `book_84` and `book_398`.\n"
   ]
  },
  {
   "cell_type": "code",
   "execution_count": 17,
   "id": "ac6b73e0",
   "metadata": {},
   "outputs": [
    {
     "name": "stderr",
     "output_type": "stream",
     "text": [
      "[Stage 26:===========================================>              (3 + 1) / 4]\r"
     ]
    },
    {
     "name": "stdout",
     "output_type": "stream",
     "text": [
      "book_398 and book_3296 share 1790 words\n",
      "book_84 and book_398 share 1691 words\n"
     ]
    },
    {
     "name": "stderr",
     "output_type": "stream",
     "text": [
      "\r",
      "                                                                                \r"
     ]
    }
   ],
   "source": [
    "### Write your code here\n",
    "book_398_3296 = book_398_counts_filtered.map(lambda x: x[0]).intersection(book_3296_counts_filtered.map(lambda x: x[0]))\n",
    "book_84_398 = book_84_counts_filtered.map(lambda x: x[0]).intersection(book_398_counts_filtered.map(lambda x: x[0]))\n",
    "book_398_3296_count = book_398_3296.count()\n",
    "book_84_398_count = book_84_398.count()\n",
    "print(f\"book_398 and book_3296 share {book_398_3296_count} words\")\n",
    "print(f\"book_84 and book_398 share {book_84_398_count} words\")\n",
    "# book_84_counts_filtered.collect()\n",
    "# book_84_counts_filtered.collect()\n",
    "# book_398_counts_filtered.map(lambda x: x[0]).collect()"
   ]
  },
  {
   "cell_type": "markdown",
   "id": "cef9f326",
   "metadata": {},
   "source": [
    "### Q15\n",
    "\n",
    "* Based on the above, do you think counting the number of shared words is a good idea as a distance metric for evaluating topic similarity? Justify your answer?\n",
    "* Hint: What do *book_84* and *book_3296* have in common? "
   ]
  },
  {
   "cell_type": "markdown",
   "id": "6587ae14",
   "metadata": {},
   "source": [
    "#### Write your answer here"
   ]
  },
  {
   "cell_type": "markdown",
   "id": "a6f8f857",
   "metadata": {},
   "source": [
    "## Part II \n",
    "\n",
    "Another approach to estimating similarity consists of computing the Euclidean distance across a set of words. For example, suppose we have 3 documents A, B and C with the following counts for the words `evolution`, `DNA`, `biology` and `finance`. \n",
    "\n",
    "```python \n",
    "A = [4, 9, 6, 8]\n",
    "B = [3, 7, 7, 10]\n",
    "C = [15, 10, 1, 1]\n",
    "```\n",
    "Although all documents contain exactly the four words, the number of times these words appear in each book may be indicative of thier topic. For example, documents `A` and `B` are more likely to be business related since they contain the word `finance` more frequently (8 and 10 times respectively). Document `C` may be a technical document since it focuses on more technical words (`evolution` and `DNA`) and less on the words `finance`.\n",
    "\n",
    "The Euclidean distance, which can be computed using the `scikit` snippet below, is more indicative of topic-relatedness between the two documents.\n",
    "\n",
    "```python\n",
    "from scipy.spatial.distance import euclidean \n",
    "print(f\"The Euclidean distance between A and B is: {euclidean(A, B)}\")\n",
    "\n",
    "print(f\"The Euclidean distance between A and C is: {euclidean(A, C)}\")\n",
    "\n",
    "print(f\"The Euclidean distance between B and C is: {euclidean(B, C)}\")\n",
    "```\n"
   ]
  },
  {
   "cell_type": "markdown",
   "id": "9abdc35e",
   "metadata": {},
   "source": [
    "### Q16\n",
    "\n",
    "To calculate the Euclidean distance, we must first identify the set of words by which we will compare the documents. Here, we will explore the words that are common to all 4 documents. We will store the data in a matrix called `counts_matrix`.\n",
    "\n",
    "Start by finding the words that are common to all four documents after stop-word filtering and store the counts for each word in a column of `counts_matrix`. \n",
    "\n",
    "To take the previous example, you can generate an emtpy matrix with 3 lines (documents `A`, `B` and `C`) and 4 columns (words `evolution`, `DNA`, `biology` and `finance`) using the following code.\n",
    "\n",
    "```python\n",
    "import numpy as np\n",
    "counts_matrix = np.zeros([3,4])\n",
    "```\n",
    "\n",
    "After generting the counts, you can fill the counts for a document, say `A`, using the following code:\n",
    "\n",
    "```python\n",
    "counts_matrix[0, :] = [4, 9, 6, 8] \n",
    "```\n",
    "* Other than for building `counts_matrix` you should exclusively use operations or actions on the `RDD` to answer this question. \n",
    "  * Code that uses methods such as `some_rdd.X().Y().Z()...` is allowed\n",
    "  * Code that uses functions such as `some_func(...)` is not allowed\n"
   ]
  },
  {
   "cell_type": "code",
   "execution_count": 18,
   "id": "c3cae946",
   "metadata": {},
   "outputs": [
    {
     "name": "stderr",
     "output_type": "stream",
     "text": [
      "                                                                                \r"
     ]
    },
    {
     "name": "stdout",
     "output_type": "stream",
     "text": [
      "[[88 85 59 ...  1  1  1]]\n",
      "[[23 21 47 ...  1  1  1]]\n",
      "[[12  9 15 ...  1  1  1]]\n",
      "[[10 37  2 ...  1  1  1]]\n"
     ]
    }
   ],
   "source": [
    "### Write your code here\n",
    "union_1 = book_398_counts_filtered.map(lambda x: x[0]).intersection(book_3296_counts_filtered.map(lambda x: x[0]))\n",
    "union_2 = union_1.intersection(book_84_counts_filtered.map(lambda x: x[0]))\n",
    "union_3 = union_2.intersection(book_43_counts_filtered.map(lambda x: x[0]))\n",
    "# type(union_3)\n",
    "import numpy as np\n",
    "common_words = np.array(union_3.collect())\n",
    "# print(len(common_words))\n",
    "book_43_mat = book_43_counts_filtered.filter(lambda x: x[0] in common_words)\n",
    "#book_43_mat.collect()\n",
    "book_84_mat = book_84_counts_filtered.filter(lambda x: x[0] in common_words)\n",
    "# book_84_mat.collect()\n",
    "book_398_mat = book_398_counts_filtered.filter(lambda x: x[0] in common_words)\n",
    "#book_398_mat.collect()\n",
    "book_3296_mat = book_3296_counts_filtered.filter(lambda x: x[0] in common_words)\n",
    "#book_3296_mat.collect()\n",
    "book_43_mat_counts = np.array(book_43_mat.map(lambda x: x[1]).collect())\n",
    "book_84_mat_counts = np.array(book_84_mat.map(lambda x: x[1]).collect())\n",
    "book_398_mat_counts = np.array(book_398_mat.map(lambda x: x[1]).collect())\n",
    "book_3296_mat_counts = np.array(book_3296_mat.map(lambda x: x[1]).collect())\n",
    "counts_matrix = np.matrix([book_43_mat_counts, book_84_mat_counts, book_398_mat_counts, book_3296_mat_counts])\n",
    "print(counts_matrix[0, 3:])\n",
    "print(counts_matrix[1, 3:])\n",
    "print(counts_matrix[2, 3:])\n",
    "print(counts_matrix[3, 3:])"
   ]
  },
  {
   "cell_type": "markdown",
   "id": "124bcdd8",
   "metadata": {},
   "source": [
    "### Q17\n",
    "\n",
    "Compute the Euclidean distance between `book_398` and `book_3296`, which both talk about religion and `book_84` and `book_398`. What do you conclude about using the Euclidean distance for evaluating topic relatedness across documents?\n"
   ]
  },
  {
   "cell_type": "code",
   "execution_count": 19,
   "id": "7b6a81dd",
   "metadata": {},
   "outputs": [
    {
     "name": "stdout",
     "output_type": "stream",
     "text": [
      "The euclidean distance between books 398 and 3296 is 1470.8415958219293.\n",
      "The euclidean distance between books 84 and 398 is 867.2508287687017.\n"
     ]
    }
   ],
   "source": [
    "### Write your code here\n",
    "from scipy.spatial.distance import euclidean\n",
    "dist_398_3296 = euclidean(counts_matrix[2, :], counts_matrix[3, :])\n",
    "dist_84_398 = euclidean(counts_matrix[1, :], counts_matrix[2, :])\n",
    "print(f\"The euclidean distance between books 398 and 3296 is {dist_398_3296}.\")\n",
    "print(f\"The euclidean distance between books 84 and 398 is {dist_84_398}.\")"
   ]
  },
  {
   "cell_type": "markdown",
   "id": "89981b46",
   "metadata": {},
   "source": [
    "#### Write your justification here"
   ]
  },
  {
   "cell_type": "markdown",
   "id": "3f4e54e6",
   "metadata": {},
   "source": [
    "### Q18\n",
    "\n",
    "Bonus question (5 points): Can you think of a few things we could do to improve similarity between documents that pertain to the same topic. Justify your answer without giving code"
   ]
  },
  {
   "cell_type": "markdown",
   "id": "5c8c6de1",
   "metadata": {},
   "source": [
    "#### Write your answer here\n"
   ]
  },
  {
   "cell_type": "markdown",
   "id": "aedf1d74",
   "metadata": {},
   "source": [
    "## Part III\n",
    "\n",
    "In this part we will build some basic analytics for a dataset consisting of flight arrival and departure details for all commercial flights within the USA in one month. While this dataset can be managed using Pandas (<1M records), scaling to a yearly or longer timeframe will greatly benefit from using a distributed computing framework such as `Spark`.\n",
    "\n",
    "Here, you should use exclusively `SparkDatFrames. \n",
    "\n",
    "We want to analyze this dataset to better schedule trips.  For example:\n",
    " * Avoid airlines carriers that are most often associated with delays.\n",
    " * Avoid departure days where delays are most frequent.\n",
    " * Avoid airports which are associated with delays or long taxxying time.\n",
    "* etc.\n",
    " \n",
    "\n",
    "The information about the fields contained in the data file can be found [here](https://dataverse.harvard.edu/dataset.xhtml;jsessionid=0414e25969eccd0e88ae4d64fa0b?persistentId=doi%3A10.7910%2FDVN%2FHG7NV7&version=&q=&fileTypeGroupFacet=&fileTag=%221.+Documentation%22&fileSortField=date&fileSortOrder=desc)\n"
   ]
  },
  {
   "cell_type": "markdown",
   "id": "149805af",
   "metadata": {},
   "source": [
    "### Q19\n",
    "\n",
    "Load the file `flight_info.csv` into a spark `DataFrame` called `fight_info`.\n",
    "\n",
    "  * Note that you will need to create a sparkSession prior to loading the data\n",
    "  \n",
    "* How many entries does the file contain?\n",
    "\n"
   ]
  },
  {
   "cell_type": "code",
   "execution_count": 21,
   "id": "3ad5e6ad",
   "metadata": {},
   "outputs": [
    {
     "name": "stderr",
     "output_type": "stream",
     "text": [
      "[Stage 47:=============================>                            (1 + 1) / 2]\r"
     ]
    },
    {
     "name": "stdout",
     "output_type": "stream",
     "text": [
      "450017\n"
     ]
    },
    {
     "name": "stderr",
     "output_type": "stream",
     "text": [
      "\r",
      "                                                                                \r"
     ]
    }
   ],
   "source": [
    "### Write your code here\n",
    "from pyspark.sql import SparkSession\n",
    "session = SparkSession(sc)\n",
    "\n",
    "flight_info = session.read.csv(\"data/flight_info.csv\", header=True)\n",
    "print(flight_info.count())"
   ]
  },
  {
   "cell_type": "markdown",
   "id": "4fad81f1",
   "metadata": {},
   "source": [
    "### Q20\n",
    "\n",
    "Use `pySpark-SQL` or `pandas-like syntax to compute the airlines represented in this dataset\n",
    "The airline information is stored in a field called UniqueCarrier\n",
    "* UniqueCarrier: Represents the unique carrier code (ex.AA = American Airlines) \n"
   ]
  },
  {
   "cell_type": "code",
   "execution_count": 67,
   "id": "73fd7b0b",
   "metadata": {},
   "outputs": [
    {
     "name": "stderr",
     "output_type": "stream",
     "text": [
      "[Stage 77:=============================>                            (1 + 1) / 2]\r"
     ]
    },
    {
     "name": "stdout",
     "output_type": "stream",
     "text": [
      "+-------------+\n",
      "|UniqueCarrier|\n",
      "+-------------+\n",
      "|           UA|\n",
      "|           NK|\n",
      "|           AA|\n",
      "|           EV|\n",
      "|           B6|\n",
      "|           DL|\n",
      "|           OO|\n",
      "|           F9|\n",
      "|           HA|\n",
      "|           AS|\n",
      "|           WN|\n",
      "|           VX|\n",
      "+-------------+\n",
      "\n"
     ]
    },
    {
     "name": "stderr",
     "output_type": "stream",
     "text": [
      "\r",
      "                                                                                \r"
     ]
    }
   ],
   "source": [
    "unique_carrier = flight_info.dropDuplicates(['UniqueCarrier']).select(['UniqueCarrier'])\n",
    "unique_carrier.show()"
   ]
  },
  {
   "cell_type": "markdown",
   "id": "1349b2f5",
   "metadata": {},
   "source": [
    "### Q21\n",
    "\n",
    "The data file contains various other fields, two of which are useful for answering the next question.\n",
    "\n",
    "* CRSDepTime: Represents the scheduled departure time\n",
    "* DepTime: Represents the actual departure time\n",
    "\n",
    "Compute the number of flights delayed per each carried code represented in this dataset. Sort the data by decreasing order of delays.\n",
    "  * A delay is observed when `DepTime` > `CRSDepTime`\n"
   ]
  },
  {
   "cell_type": "code",
   "execution_count": 80,
   "id": "c72cff25",
   "metadata": {},
   "outputs": [
    {
     "ename": "SyntaxError",
     "evalue": "invalid syntax (3937815249.py, line 4)",
     "output_type": "error",
     "traceback": [
      "\u001b[0;36m  File \u001b[0;32m\"/tmp/ipykernel_31/3937815249.py\"\u001b[0;36m, line \u001b[0;32m4\u001b[0m\n\u001b[0;31m    dataframe.groupBy('UniqueCarrier')..filter(flight_info.DepTime > flight_info.CRSDepTime).count().show(10)\u001b[0m\n\u001b[0m                                       ^\u001b[0m\n\u001b[0;31mSyntaxError\u001b[0m\u001b[0;31m:\u001b[0m invalid syntax\n"
     ]
    }
   ],
   "source": [
    "### Delete\n",
    "flight_info.select(unique_carrier, (df.age + 10).alias('age')).collect()\n",
    "\n",
    "dataframe.groupBy('UniqueCarrier')..filter(flight_info.DepTime > flight_info.CRSDepTime).count().show(10)\n",
    "carrier = counts(x,y)\n",
    "count\n",
    "flight_info.filter(flight_info.DepTime > flight_info.CRSDepTime).count()\n",
    "\n",
    "session.sql(\"\"\"\n",
    "SELECT *\n",
    "FROM users\n",
    "WHERE first_name IN (\"Evan\", \"Sarah\", \"John\"); \n",
    "\"\"\").show()"
   ]
  },
  {
   "cell_type": "code",
   "execution_count": 79,
   "id": "c1fe1901",
   "metadata": {},
   "outputs": [
    {
     "name": "stderr",
     "output_type": "stream",
     "text": [
      "                                                                                \r"
     ]
    },
    {
     "data": {
      "text/plain": [
       "[Row(UniqueCarrier='HA', count=2265),\n",
       " Row(UniqueCarrier='VX', count=2871),\n",
       " Row(UniqueCarrier='F9', count=3181),\n",
       " Row(UniqueCarrier='NK', count=4435),\n",
       " Row(UniqueCarrier='AS', count=4966),\n",
       " Row(UniqueCarrier='B6', count=10406),\n",
       " Row(UniqueCarrier='EV', count=12340),\n",
       " Row(UniqueCarrier='OO', count=17924),\n",
       " Row(UniqueCarrier='UA', count=19594),\n",
       " Row(UniqueCarrier='AA', count=26291),\n",
       " Row(UniqueCarrier='DL', count=28962),\n",
       " Row(UniqueCarrier='WN', count=54557)]"
      ]
     },
     "execution_count": 79,
     "metadata": {},
     "output_type": "execute_result"
    }
   ],
   "source": [
    "filtered_delays = flight_info.filter(flight_info.DepTime > flight_info.CRSDepTime).groupBy('UniqueCarrier').count()\n",
    "filtered_delays.sort('count', ascending = True).collect()"
   ]
  },
  {
   "cell_type": "markdown",
   "id": "1645593b",
   "metadata": {},
   "source": [
    "### Q22\n",
    "\n",
    " Use the file `airlines.csv` to find the the complete name of the airline. Here, you are required to load the file as a pyspark DataFrame; call it `airlines_info`, and repeat the query above while including the `flights.csv `file in your query ( requires doing a `join`) so that you can also display the full name of the carrier (second column). \n",
    "\n",
    "The result will look (approximately) like:\n",
    "\n",
    "```\n",
    "[Row(UniqueCarrier='WN', first(_c1)='Southwest Airlines', count=SOME_count),\n",
    " Row(UniqueCarrier='DL', first(_c1)='Delta Air Lines', count=SOME_count),\n",
    " Row(UniqueCarrier='AA', first(_c1)='American Airlines', count=SOME_count),\n",
    " ...\n",
    " ]\n",
    "```\n",
    "\n",
    "The carrier code in the `airlines.csv` file is provided in the 4th (1-based) column\n",
    "\n",
    "Note that the file `airlines.csv` does not have column header. Hence, you need to print one line of your dataset to see what names Spark gave to the columns. Use the name provided by Spark in your query."
   ]
  },
  {
   "cell_type": "code",
   "execution_count": 95,
   "id": "86699da8",
   "metadata": {},
   "outputs": [
    {
     "name": "stderr",
     "output_type": "stream",
     "text": [
      "                                                                                \r"
     ]
    },
    {
     "data": {
      "text/plain": [
       "6161"
      ]
     },
     "execution_count": 95,
     "metadata": {},
     "output_type": "execute_result"
    }
   ],
   "source": [
    "# Trash\n",
    "filtered_delays.join(airlines_info, filtered_delays.UniqueCarrier == airlines_info._c3, 'outer')"
   ]
  },
  {
   "cell_type": "code",
   "execution_count": 93,
   "id": "1bb3a451",
   "metadata": {},
   "outputs": [
    {
     "data": {
      "text/plain": [
       "['_c0',\n",
       " 'DayOfWeek',\n",
       " 'UniqueCarrier',\n",
       " 'FlightNum',\n",
       " 'Origin',\n",
       " 'Dest',\n",
       " 'CRSDepTime',\n",
       " 'DepTime',\n",
       " 'TaxiOut',\n",
       " 'WheelsOff',\n",
       " 'WheelsOn',\n",
       " 'TaxiIn',\n",
       " 'CRSArrTime',\n",
       " 'ArrTime',\n",
       " 'Cancelled',\n",
       " 'CancellationCode',\n",
       " 'Distance',\n",
       " 'CarrierDelay',\n",
       " 'WeatherDelay',\n",
       " 'NASDelay',\n",
       " 'SecurityDelay',\n",
       " 'LateAircraftDelay']"
      ]
     },
     "execution_count": 93,
     "metadata": {},
     "output_type": "execute_result"
    }
   ],
   "source": [
    "# Trash\n",
    "# flight_info.columns\n",
    "#flight_info.select('_c0').show()"
   ]
  },
  {
   "cell_type": "code",
   "execution_count": 121,
   "id": "30cea22b",
   "metadata": {},
   "outputs": [
    {
     "name": "stderr",
     "output_type": "stream",
     "text": [
      "                                                                                \r"
     ]
    },
    {
     "data": {
      "text/plain": [
       "[Row(UniqueCarrier='HA', _c1='Hawaiian Airlines', count=2265),\n",
       " Row(UniqueCarrier='VX', _c1='Virgin America', count=2871),\n",
       " Row(UniqueCarrier='F9', _c1='Frontier Airlines', count=3181),\n",
       " Row(UniqueCarrier='NK', _c1='Spirit Airlines', count=4435),\n",
       " Row(UniqueCarrier='AS', _c1='Alaska Airlines', count=4966),\n",
       " Row(UniqueCarrier='B6', _c1='JetBlue Airways', count=10406),\n",
       " Row(UniqueCarrier='EV', _c1='Atlantic Southeast Airlines', count=12340),\n",
       " Row(UniqueCarrier='OO', _c1='SkyWest', count=17924),\n",
       " Row(UniqueCarrier='UA', _c1='United Airlines', count=19594),\n",
       " Row(UniqueCarrier='AA', _c1='American Airlines', count=26291),\n",
       " Row(UniqueCarrier='DL', _c1='Delta Air Lines', count=28962),\n",
       " Row(UniqueCarrier='WN', _c1='Southwest Airlines', count=54557)]"
      ]
     },
     "execution_count": 121,
     "metadata": {},
     "output_type": "execute_result"
    }
   ],
   "source": [
    "airlines_info = session.read.csv(\"data/airlines.csv\", header=False)\n",
    "filtered_info = flight_info.filter(flight_info.DepTime > flight_info.CRSDepTime)\n",
    "display_info = filtered_info.groupBy('UniqueCarrier').count()\n",
    "display_info = display_info.join(airlines_info, display_info.UniqueCarrier == airlines_info._c3, 'inner')\n",
    "display_info.select('UniqueCarrier','_c1','count').sort('count', ascending = True).collect()"
   ]
  },
  {
   "cell_type": "markdown",
   "id": "4e0123a8",
   "metadata": {},
   "source": [
    "### Q23\n",
    "\n",
    "Compute the number of delays per company per day. The day is encoded as an integer in the column `DayOfWeek` in `fight_info`. You can display the day as an integer or map it into a string name of the week.\n",
    "Sort the data by airline code (UniqueCarrier) and by increasing values of DayOfWeek\n",
    "\n",
    "\n",
    "You results should look like the following\n",
    "\n"
   ]
  },
  {
   "cell_type": "code",
   "execution_count": 150,
   "id": "81742af1",
   "metadata": {},
   "outputs": [
    {
     "name": "stderr",
     "output_type": "stream",
     "text": [
      "                                                                                \r"
     ]
    },
    {
     "data": {
      "text/plain": [
       "[Row(UniqueCarrier='AA', _c1='American Airlines', count=26291),\n",
       " Row(UniqueCarrier='AS', _c1='Alaska Airlines', count=4966),\n",
       " Row(UniqueCarrier='B6', _c1='JetBlue Airways', count=10406),\n",
       " Row(UniqueCarrier='DL', _c1='Delta Air Lines', count=28962),\n",
       " Row(UniqueCarrier='EV', _c1='Atlantic Southeast Airlines', count=12340),\n",
       " Row(UniqueCarrier='F9', _c1='Frontier Airlines', count=3181),\n",
       " Row(UniqueCarrier='HA', _c1='Hawaiian Airlines', count=2265),\n",
       " Row(UniqueCarrier='NK', _c1='Spirit Airlines', count=4435),\n",
       " Row(UniqueCarrier='OO', _c1='SkyWest', count=17924),\n",
       " Row(UniqueCarrier='UA', _c1='United Airlines', count=19594),\n",
       " Row(UniqueCarrier='VX', _c1='Virgin America', count=2871),\n",
       " Row(UniqueCarrier='WN', _c1='Southwest Airlines', count=54557)]"
      ]
     },
     "execution_count": 150,
     "metadata": {},
     "output_type": "execute_result"
    }
   ],
   "source": [
    "# Trash\n",
    "display_info.select('UniqueCarrier','_c1','count').sort('UniqueCarrier', ascending = True).collect()"
   ]
  },
  {
   "cell_type": "code",
   "execution_count": 152,
   "id": "35549b45",
   "metadata": {},
   "outputs": [
    {
     "name": "stdout",
     "output_type": "stream",
     "text": [
      "AA, American Airlines Delays\n"
     ]
    },
    {
     "name": "stderr",
     "output_type": "stream",
     "text": [
      "                                                                                \r"
     ]
    },
    {
     "data": {
      "text/plain": [
       "[Row(DayOfWeek='1', count=12165),\n",
       " Row(DayOfWeek='2', count=11543),\n",
       " Row(DayOfWeek='3', count=9711),\n",
       " Row(DayOfWeek='4', count=9894),\n",
       " Row(DayOfWeek='5', count=9944),\n",
       " Row(DayOfWeek='6', count=8197),\n",
       " Row(DayOfWeek='7', count=11678)]"
      ]
     },
     "execution_count": 152,
     "metadata": {},
     "output_type": "execute_result"
    }
   ],
   "source": [
    "print(\"AA, American Airlines Delays\")\n",
    "aa_delay = flight_info.filter(flight_info.UniqueCarrier == 'AA')\n",
    "aa_delay.groupBy(aa_delay.DayOfWeek).count().sort('DayOfWeek', ascending = True).collect()"
   ]
  },
  {
   "cell_type": "code",
   "execution_count": 153,
   "id": "555460d6",
   "metadata": {},
   "outputs": [
    {
     "name": "stdout",
     "output_type": "stream",
     "text": [
      "HS, Alaska Airlines Delays\n"
     ]
    },
    {
     "name": "stderr",
     "output_type": "stream",
     "text": [
      "                                                                                \r"
     ]
    },
    {
     "data": {
      "text/plain": [
       "[Row(DayOfWeek='1', count=2454),\n",
       " Row(DayOfWeek='2', count=2299),\n",
       " Row(DayOfWeek='3', count=1854),\n",
       " Row(DayOfWeek='4', count=1951),\n",
       " Row(DayOfWeek='5', count=1960),\n",
       " Row(DayOfWeek='6', count=1798),\n",
       " Row(DayOfWeek='7', count=2395)]"
      ]
     },
     "execution_count": 153,
     "metadata": {},
     "output_type": "execute_result"
    }
   ],
   "source": [
    "print(\"HS, Alaska Airlines Delays\")\n",
    "as_delay = flight_info.filter(flight_info.UniqueCarrier == 'AS')\n",
    "as_delay.groupBy(as_delay.DayOfWeek).count().sort('DayOfWeek', ascending = True).collect()"
   ]
  },
  {
   "cell_type": "code",
   "execution_count": 154,
   "id": "a8dc66fc",
   "metadata": {},
   "outputs": [
    {
     "name": "stdout",
     "output_type": "stream",
     "text": [
      "B6, JetBlue Airways Delays\n"
     ]
    },
    {
     "name": "stderr",
     "output_type": "stream",
     "text": [
      "                                                                                \r"
     ]
    },
    {
     "data": {
      "text/plain": [
       "[Row(DayOfWeek='1', count=4130),\n",
       " Row(DayOfWeek='2', count=3980),\n",
       " Row(DayOfWeek='3', count=3164),\n",
       " Row(DayOfWeek='4', count=3276),\n",
       " Row(DayOfWeek='5', count=3268),\n",
       " Row(DayOfWeek='6', count=2866),\n",
       " Row(DayOfWeek='7', count=3918)]"
      ]
     },
     "execution_count": 154,
     "metadata": {},
     "output_type": "execute_result"
    }
   ],
   "source": [
    "print(\"B6, JetBlue Airways Delays\")\n",
    "b_delay = flight_info.filter(flight_info.UniqueCarrier == 'B6')\n",
    "b_delay.groupBy(b_delay.DayOfWeek).count().sort('DayOfWeek', ascending = True).collect()"
   ]
  },
  {
   "cell_type": "code",
   "execution_count": 155,
   "id": "9ed63cfd",
   "metadata": {},
   "outputs": [
    {
     "name": "stdout",
     "output_type": "stream",
     "text": [
      "DL, Delta Airlines Delays\n"
     ]
    },
    {
     "name": "stderr",
     "output_type": "stream",
     "text": [
      "                                                                                \r"
     ]
    },
    {
     "data": {
      "text/plain": [
       "[Row(DayOfWeek='1', count=12290),\n",
       " Row(DayOfWeek='2', count=11515),\n",
       " Row(DayOfWeek='3', count=9250),\n",
       " Row(DayOfWeek='4', count=9697),\n",
       " Row(DayOfWeek='5', count=9724),\n",
       " Row(DayOfWeek='6', count=6722),\n",
       " Row(DayOfWeek='7', count=10615)]"
      ]
     },
     "execution_count": 155,
     "metadata": {},
     "output_type": "execute_result"
    }
   ],
   "source": [
    "print(\"DL, Delta Airlines Delays\")\n",
    "dl_delay = flight_info.filter(flight_info.UniqueCarrier == 'DL')\n",
    "dl_delay.groupBy(dl_delay.DayOfWeek).count().sort('DayOfWeek', ascending = True).collect()"
   ]
  },
  {
   "cell_type": "code",
   "execution_count": 156,
   "id": "7bb25c97",
   "metadata": {},
   "outputs": [
    {
     "name": "stdout",
     "output_type": "stream",
     "text": [
      "EV, Atlantic Southeast Airlines Delays\n"
     ]
    },
    {
     "name": "stderr",
     "output_type": "stream",
     "text": [
      "                                                                                \r"
     ]
    },
    {
     "data": {
      "text/plain": [
       "[Row(DayOfWeek='1', count=6222),\n",
       " Row(DayOfWeek='2', count=5818),\n",
       " Row(DayOfWeek='3', count=4660),\n",
       " Row(DayOfWeek='4', count=4981),\n",
       " Row(DayOfWeek='5', count=4996),\n",
       " Row(DayOfWeek='6', count=3116),\n",
       " Row(DayOfWeek='7', count=5244)]"
      ]
     },
     "execution_count": 156,
     "metadata": {},
     "output_type": "execute_result"
    }
   ],
   "source": [
    "print(\"EV, Atlantic Southeast Airlines Delays\")\n",
    "ev_delay = flight_info.filter(flight_info.UniqueCarrier == 'EV')\n",
    "ev_delay.groupBy(ev_delay.DayOfWeek).count().sort('DayOfWeek', ascending = True).collect()"
   ]
  },
  {
   "cell_type": "code",
   "execution_count": 157,
   "id": "bed3f100",
   "metadata": {},
   "outputs": [
    {
     "name": "stdout",
     "output_type": "stream",
     "text": [
      "F9, Frontier Airlines Delays\n"
     ]
    },
    {
     "name": "stderr",
     "output_type": "stream",
     "text": [
      "                                                                                \r"
     ]
    },
    {
     "data": {
      "text/plain": [
       "[Row(DayOfWeek='1', count=1256),\n",
       " Row(DayOfWeek='2', count=1228),\n",
       " Row(DayOfWeek='3', count=1001),\n",
       " Row(DayOfWeek='4', count=1019),\n",
       " Row(DayOfWeek='5', count=1006),\n",
       " Row(DayOfWeek='6', count=988),\n",
       " Row(DayOfWeek='7', count=1262)]"
      ]
     },
     "execution_count": 157,
     "metadata": {},
     "output_type": "execute_result"
    }
   ],
   "source": [
    "print(\"F9, Frontier Airlines Delays\") ###\n",
    "f_delay = flight_info.filter(flight_info.UniqueCarrier == 'F9')\n",
    "f_delay.groupBy(f_delay.DayOfWeek).count().sort('DayOfWeek', ascending = True).collect()"
   ]
  },
  {
   "cell_type": "code",
   "execution_count": 158,
   "id": "4c0296b7",
   "metadata": {},
   "outputs": [
    {
     "name": "stdout",
     "output_type": "stream",
     "text": [
      "HA, Hawaiian Airlines Delays\n"
     ]
    },
    {
     "name": "stderr",
     "output_type": "stream",
     "text": [
      "                                                                                \r"
     ]
    },
    {
     "data": {
      "text/plain": [
       "[Row(DayOfWeek='1', count=989),\n",
       " Row(DayOfWeek='2', count=966),\n",
       " Row(DayOfWeek='3', count=791),\n",
       " Row(DayOfWeek='4', count=802),\n",
       " Row(DayOfWeek='5', count=874),\n",
       " Row(DayOfWeek='6', count=829),\n",
       " Row(DayOfWeek='7', count=1025)]"
      ]
     },
     "execution_count": 158,
     "metadata": {},
     "output_type": "execute_result"
    }
   ],
   "source": [
    "print(\"HA, Hawaiian Airlines Delays\")\n",
    "ha_delay = flight_info.filter(flight_info.UniqueCarrier == 'HA')\n",
    "ha_delay.groupBy(ha_delay.DayOfWeek).count().sort('DayOfWeek', ascending = True).collect()"
   ]
  },
  {
   "cell_type": "code",
   "execution_count": 159,
   "id": "e2dd7c1e",
   "metadata": {},
   "outputs": [
    {
     "name": "stdout",
     "output_type": "stream",
     "text": [
      "NK, Spirit Airlines Delays\n"
     ]
    },
    {
     "name": "stderr",
     "output_type": "stream",
     "text": [
      "                                                                                \r"
     ]
    },
    {
     "data": {
      "text/plain": [
       "[Row(DayOfWeek='1', count=2034),\n",
       " Row(DayOfWeek='2', count=2023),\n",
       " Row(DayOfWeek='3', count=1621),\n",
       " Row(DayOfWeek='4', count=1612),\n",
       " Row(DayOfWeek='5', count=1632),\n",
       " Row(DayOfWeek='6', count=1619),\n",
       " Row(DayOfWeek='7', count=2029)]"
      ]
     },
     "execution_count": 159,
     "metadata": {},
     "output_type": "execute_result"
    }
   ],
   "source": [
    "print(\"NK, Spirit Airlines Delays\")\n",
    "nk_delay = flight_info.filter(flight_info.UniqueCarrier == 'NK')\n",
    "nk_delay.groupBy(nk_delay.DayOfWeek).count().sort('DayOfWeek', ascending = True).collect()"
   ]
  },
  {
   "cell_type": "code",
   "execution_count": 160,
   "id": "ebfc746b",
   "metadata": {},
   "outputs": [
    {
     "name": "stdout",
     "output_type": "stream",
     "text": [
      "OO, SkyWest Airlines Delays\n"
     ]
    },
    {
     "name": "stderr",
     "output_type": "stream",
     "text": [
      "                                                                                \r"
     ]
    },
    {
     "data": {
      "text/plain": [
       "[Row(DayOfWeek='1', count=8660),\n",
       " Row(DayOfWeek='2', count=8354),\n",
       " Row(DayOfWeek='3', count=6664),\n",
       " Row(DayOfWeek='4', count=6795),\n",
       " Row(DayOfWeek='5', count=6817),\n",
       " Row(DayOfWeek='6', count=5092),\n",
       " Row(DayOfWeek='7', count=7764)]"
      ]
     },
     "execution_count": 160,
     "metadata": {},
     "output_type": "execute_result"
    }
   ],
   "source": [
    "print(\"OO, SkyWest Airlines Delays\")\n",
    "oo_delay = flight_info.filter(flight_info.UniqueCarrier == 'OO')\n",
    "oo_delay.groupBy(oo_delay.DayOfWeek).count().sort('DayOfWeek', ascending = True).collect()"
   ]
  },
  {
   "cell_type": "code",
   "execution_count": 163,
   "id": "ba3bf844",
   "metadata": {},
   "outputs": [
    {
     "name": "stdout",
     "output_type": "stream",
     "text": [
      "OA, United Airlines Delays\n"
     ]
    },
    {
     "name": "stderr",
     "output_type": "stream",
     "text": [
      "                                                                                \r"
     ]
    },
    {
     "data": {
      "text/plain": [
       "[]"
      ]
     },
     "execution_count": 163,
     "metadata": {},
     "output_type": "execute_result"
    }
   ],
   "source": [
    "print(\"OA, United Airlines Delays\")\n",
    "oa_delay = flight_info.filter(flight_info.UniqueCarrier == 'OA')\n",
    "oa_delay.groupBy(oa_delay.DayOfWeek).count().sort('DayOfWeek', ascending = True).collect()"
   ]
  },
  {
   "cell_type": "code",
   "execution_count": 162,
   "id": "efc8df07",
   "metadata": {},
   "outputs": [
    {
     "name": "stdout",
     "output_type": "stream",
     "text": [
      "VX, Virgin America Delays\n"
     ]
    },
    {
     "name": "stderr",
     "output_type": "stream",
     "text": [
      "                                                                                \r"
     ]
    },
    {
     "data": {
      "text/plain": [
       "[Row(DayOfWeek='1', count=992),\n",
       " Row(DayOfWeek='2', count=951),\n",
       " Row(DayOfWeek='3', count=768),\n",
       " Row(DayOfWeek='4', count=796),\n",
       " Row(DayOfWeek='5', count=804),\n",
       " Row(DayOfWeek='6', count=540),\n",
       " Row(DayOfWeek='7', count=931)]"
      ]
     },
     "execution_count": 162,
     "metadata": {},
     "output_type": "execute_result"
    }
   ],
   "source": [
    "print(\"VX, Virgin America Delays\")\n",
    "vx_delay = flight_info.filter(flight_info.UniqueCarrier == 'VX').groupBy(vx_delay.DayOfWeek).count().sort('DayOfWeek', ascending = True)\n",
    "vx_delay.collect()"
   ]
  },
  {
   "cell_type": "code",
   "execution_count": 164,
   "id": "963ccc8f",
   "metadata": {},
   "outputs": [
    {
     "name": "stdout",
     "output_type": "stream",
     "text": [
      "WN, Southwest Airlines Delays\n"
     ]
    },
    {
     "name": "stderr",
     "output_type": "stream",
     "text": [
      "                                                                                \r"
     ]
    },
    {
     "data": {
      "text/plain": [
       "[Row(DayOfWeek='1', count=18303),\n",
       " Row(DayOfWeek='2', count=18123),\n",
       " Row(DayOfWeek='3', count=14409),\n",
       " Row(DayOfWeek='4', count=14363),\n",
       " Row(DayOfWeek='5', count=14400),\n",
       " Row(DayOfWeek='6', count=11724),\n",
       " Row(DayOfWeek='7', count=16463)]"
      ]
     },
     "execution_count": 164,
     "metadata": {},
     "output_type": "execute_result"
    }
   ],
   "source": [
    "print(\"WN, Southwest Airlines Delays\")\n",
    "wn_delay = flight_info.filter(flight_info.UniqueCarrier == 'WN').groupBy(wn_delay.DayOfWeek).count().sort('DayOfWeek', ascending = True)\n",
    "wn_delay.collect()"
   ]
  },
  {
   "cell_type": "code",
   "execution_count": 149,
   "id": "f9971baa",
   "metadata": {},
   "outputs": [
    {
     "name": "stdout",
     "output_type": "stream",
     "text": [
      "AA, American Airlines Delays\n"
     ]
    },
    {
     "name": "stderr",
     "output_type": "stream",
     "text": [
      "                                                                                \r"
     ]
    },
    {
     "name": "stdout",
     "output_type": "stream",
     "text": [
      "HS, Alaska Airlines Delays\n"
     ]
    },
    {
     "name": "stderr",
     "output_type": "stream",
     "text": [
      "\r",
      "[Stage 522:============================>                            (1 + 1) / 2]\r",
      "\r",
      "                                                                                \r"
     ]
    },
    {
     "name": "stdout",
     "output_type": "stream",
     "text": [
      "B6, JetBlue Airways Delays\n"
     ]
    },
    {
     "name": "stderr",
     "output_type": "stream",
     "text": [
      "\r",
      "[Stage 530:============================>                            (1 + 1) / 2]\r",
      "\r",
      "                                                                                \r"
     ]
    },
    {
     "name": "stdout",
     "output_type": "stream",
     "text": [
      "DL, Delta Airlines Delays\n"
     ]
    },
    {
     "name": "stderr",
     "output_type": "stream",
     "text": [
      "\r",
      "[Stage 538:============================>                            (1 + 1) / 2]\r",
      "\r",
      "                                                                                \r"
     ]
    },
    {
     "name": "stdout",
     "output_type": "stream",
     "text": [
      "EV, Atlantic Southeast Airlines Delays\n"
     ]
    },
    {
     "name": "stderr",
     "output_type": "stream",
     "text": [
      "                                                                                \r"
     ]
    },
    {
     "name": "stdout",
     "output_type": "stream",
     "text": [
      "F9, Frontier Airlines Delays\n"
     ]
    },
    {
     "name": "stderr",
     "output_type": "stream",
     "text": [
      "                                                                                \r"
     ]
    },
    {
     "name": "stdout",
     "output_type": "stream",
     "text": [
      "HA, Hawaiian Airlines Delays\n",
      "NK, Spirit Airlines Delays\n"
     ]
    },
    {
     "name": "stderr",
     "output_type": "stream",
     "text": [
      "\r",
      "[Stage 570:============================>                            (1 + 1) / 2]\r",
      "\r",
      "                                                                                \r"
     ]
    },
    {
     "name": "stdout",
     "output_type": "stream",
     "text": [
      "OO, SkyWest Airlines Delays\n"
     ]
    },
    {
     "name": "stderr",
     "output_type": "stream",
     "text": [
      "\r",
      "[Stage 578:============================>                            (1 + 1) / 2]\r",
      "\r",
      "                                                                                \r"
     ]
    },
    {
     "name": "stdout",
     "output_type": "stream",
     "text": [
      "OA, United Airlines Delays\n"
     ]
    },
    {
     "name": "stderr",
     "output_type": "stream",
     "text": [
      "\r",
      "[Stage 586:============================>                            (1 + 1) / 2]\r",
      "\r",
      "                                                                                \r"
     ]
    },
    {
     "name": "stdout",
     "output_type": "stream",
     "text": [
      "VX, Virgin America Delays\n",
      "WN, Southwest Airlines Delays\n"
     ]
    },
    {
     "name": "stderr",
     "output_type": "stream",
     "text": [
      "\r",
      "[Stage 599:============================>                            (1 + 1) / 2]\r",
      "\r",
      "                                                                                \r"
     ]
    },
    {
     "data": {
      "text/plain": [
       "[Row(DayOfWeek='1', count=18303),\n",
       " Row(DayOfWeek='2', count=18123),\n",
       " Row(DayOfWeek='3', count=14409),\n",
       " Row(DayOfWeek='4', count=14363),\n",
       " Row(DayOfWeek='5', count=14400),\n",
       " Row(DayOfWeek='6', count=11724),\n",
       " Row(DayOfWeek='7', count=16463)]"
      ]
     },
     "execution_count": 149,
     "metadata": {},
     "output_type": "execute_result"
    }
   ],
   "source": [
    "### Write your code here\n",
    "#day_delay = flight_info.groupBy('DayOfWeek').count()\n",
    "#day_delay.filter(flight_info.DayOfWeek == 1 & flight_info.UniqueCarrier == 'HA')\n",
    "#day_delay.collect()\n",
    "#flight_info.filter(flight_info.DepTime > flight_info.CRSDepTime).tail(10)"
   ]
  },
  {
   "cell_type": "markdown",
   "id": "4c955760",
   "metadata": {},
   "source": [
    "### Q24  \n",
    "\n",
    "Counting the number of delayed flights per airline is misleading, as airlines with more flights are more likley to have delays than companies with substantially fiewer flights. \n",
    "\n",
    "Repeat the same query above but, for each carrier, normalize the counts of delays by the total number of flights for that carrier. \n"
   ]
  },
  {
   "cell_type": "code",
   "execution_count": null,
   "id": "13ae9b5e",
   "metadata": {},
   "outputs": [],
   "source": [
    "### Write your code here"
   ]
  },
  {
   "cell_type": "markdown",
   "id": "5b73b3e4",
   "metadata": {},
   "source": [
    "### Q25 \n",
    "\n",
    "Time the query above. How long did it take to run. \n",
    "  * Make sure you run the code a few times and compute the average run time.\n",
    "  * The above should be easy to implement if you use the correct Jupyter Notebook `magic` function\n",
    "  "
   ]
  },
  {
   "cell_type": "code",
   "execution_count": null,
   "id": "7df43da8",
   "metadata": {},
   "outputs": [],
   "source": [
    "### Write your code here"
   ]
  },
  {
   "cell_type": "markdown",
   "id": "604e85e0",
   "metadata": {},
   "source": [
    "### Q26 \n",
    "\n",
    "Use one of the techniques covered in class to accelerate this query. Time your query to see by how much the run time was improved"
   ]
  },
  {
   "cell_type": "code",
   "execution_count": null,
   "id": "2e951d64",
   "metadata": {},
   "outputs": [],
   "source": [
    "### Write your code here"
   ]
  },
  {
   "cell_type": "markdown",
   "id": "8a87a433",
   "metadata": {},
   "source": [
    "### Q27 \n",
    "\n",
    "Is the departure delay (i.e., DepTime - CRSDepTime) predictive of the arrival delay (ArrTime > CRSArrTime)?\n",
    "Use an approach of your choice (e.g. `skelearn` which we covered in class or `Spark`) to model as a linear regression the arrival delay as a function of the departure delay. \n",
    "\n"
   ]
  },
  {
   "cell_type": "code",
   "execution_count": null,
   "id": "f8dbd52d",
   "metadata": {},
   "outputs": [],
   "source": [
    "### Write your code here"
   ]
  }
 ],
 "metadata": {
  "kernelspec": {
   "display_name": "Python 3 (ipykernel)",
   "language": "python",
   "name": "python3"
  },
  "language_info": {
   "codemirror_mode": {
    "name": "ipython",
    "version": 3
   },
   "file_extension": ".py",
   "mimetype": "text/x-python",
   "name": "python",
   "nbconvert_exporter": "python",
   "pygments_lexer": "ipython3",
   "version": "3.9.7"
  }
 },
 "nbformat": 4,
 "nbformat_minor": 5
}
